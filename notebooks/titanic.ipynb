{
 "cells": [
  {
   "metadata": {},
   "cell_type": "markdown",
   "source": [
    "## Credits\n",
    "This project was inspired by the Titanic competition solution by [ashishpatel26](https://github.com/ashishpatel26/Titanic-Machine-Learning-from-Disaster).\n",
    "I followed the code for educational purposes and made some small modifications to better understand the machine learning workflow."
   ],
   "id": "7634014d9106f004"
  },
  {
   "cell_type": "code",
   "id": "initial_id",
   "metadata": {
    "collapsed": true,
    "ExecuteTime": {
     "end_time": "2025-06-27T12:42:59.869408Z",
     "start_time": "2025-06-27T12:42:59.867020Z"
    }
   },
   "source": [
    "import pandas as pd\n",
    "import numpy as np\n",
    "import matplotlib.pyplot as plt\n",
    "import seaborn as sns"
   ],
   "outputs": [],
   "execution_count": 29
  },
  {
   "metadata": {
    "ExecuteTime": {
     "end_time": "2025-06-27T12:42:59.883090Z",
     "start_time": "2025-06-27T12:42:59.874920Z"
    }
   },
   "cell_type": "code",
   "source": [
    "train_original = pd.read_csv('../data/train.csv')\n",
    "test_original = pd.read_csv('../data/test.csv')\n",
    "train=train_original.copy()\n",
    "test=test_original.copy()"
   ],
   "id": "d38bfa041b126c26",
   "outputs": [],
   "execution_count": 30
  },
  {
   "metadata": {
    "ExecuteTime": {
     "end_time": "2025-06-27T12:42:59.920212Z",
     "start_time": "2025-06-27T12:42:59.916207Z"
    }
   },
   "cell_type": "code",
   "source": [
    "train=train.rename(columns={'SibSp':'Sibling&Spouses','Parch':'Parents&Children'})\n",
    "test=test.rename(columns={'SibSp':'Sibling&Spouses','Parch':'Parents&Children'})"
   ],
   "id": "e30eb1554ac31726",
   "outputs": [],
   "execution_count": 31
  },
  {
   "metadata": {
    "ExecuteTime": {
     "end_time": "2025-06-27T12:42:59.944537Z",
     "start_time": "2025-06-27T12:42:59.940149Z"
    }
   },
   "cell_type": "code",
   "source": [
    "print(train.isna().sum())\n",
    "print(test.isna().sum())"
   ],
   "id": "d76c9e78dd36b212",
   "outputs": [
    {
     "name": "stdout",
     "output_type": "stream",
     "text": [
      "PassengerId           0\n",
      "Survived              0\n",
      "Pclass                0\n",
      "Name                  0\n",
      "Sex                   0\n",
      "Age                 177\n",
      "Sibling&Spouses       0\n",
      "Parents&Children      0\n",
      "Ticket                0\n",
      "Fare                  0\n",
      "Cabin               687\n",
      "Embarked              2\n",
      "dtype: int64\n",
      "PassengerId           0\n",
      "Pclass                0\n",
      "Name                  0\n",
      "Sex                   0\n",
      "Age                  86\n",
      "Sibling&Spouses       0\n",
      "Parents&Children      0\n",
      "Ticket                0\n",
      "Fare                  1\n",
      "Cabin               327\n",
      "Embarked              0\n",
      "dtype: int64\n"
     ]
    }
   ],
   "execution_count": 32
  },
  {
   "metadata": {
    "ExecuteTime": {
     "end_time": "2025-06-27T12:42:59.969081Z",
     "start_time": "2025-06-27T12:42:59.966765Z"
    }
   },
   "cell_type": "code",
   "source": [
    "print(train.shape)\n",
    "print(test.shape)"
   ],
   "id": "77a15ca256b607cd",
   "outputs": [
    {
     "name": "stdout",
     "output_type": "stream",
     "text": [
      "(891, 12)\n",
      "(418, 11)\n"
     ]
    }
   ],
   "execution_count": 33
  },
  {
   "metadata": {
    "ExecuteTime": {
     "end_time": "2025-06-27T12:42:59.994173Z",
     "start_time": "2025-06-27T12:42:59.988168Z"
    }
   },
   "cell_type": "code",
   "source": "train.info()",
   "id": "46c7fcf2e5e8fa92",
   "outputs": [
    {
     "name": "stdout",
     "output_type": "stream",
     "text": [
      "<class 'pandas.core.frame.DataFrame'>\n",
      "RangeIndex: 891 entries, 0 to 890\n",
      "Data columns (total 12 columns):\n",
      " #   Column            Non-Null Count  Dtype  \n",
      "---  ------            --------------  -----  \n",
      " 0   PassengerId       891 non-null    int64  \n",
      " 1   Survived          891 non-null    int64  \n",
      " 2   Pclass            891 non-null    int64  \n",
      " 3   Name              891 non-null    object \n",
      " 4   Sex               891 non-null    object \n",
      " 5   Age               714 non-null    float64\n",
      " 6   Sibling&Spouses   891 non-null    int64  \n",
      " 7   Parents&Children  891 non-null    int64  \n",
      " 8   Ticket            891 non-null    object \n",
      " 9   Fare              891 non-null    float64\n",
      " 10  Cabin             204 non-null    object \n",
      " 11  Embarked          889 non-null    object \n",
      "dtypes: float64(2), int64(5), object(5)\n",
      "memory usage: 83.7+ KB\n"
     ]
    }
   ],
   "execution_count": 34
  },
  {
   "metadata": {
    "ExecuteTime": {
     "end_time": "2025-06-27T12:43:00.028111Z",
     "start_time": "2025-06-27T12:43:00.022105Z"
    }
   },
   "cell_type": "code",
   "source": "test.info()",
   "id": "5f248e18df983df3",
   "outputs": [
    {
     "name": "stdout",
     "output_type": "stream",
     "text": [
      "<class 'pandas.core.frame.DataFrame'>\n",
      "RangeIndex: 418 entries, 0 to 417\n",
      "Data columns (total 11 columns):\n",
      " #   Column            Non-Null Count  Dtype  \n",
      "---  ------            --------------  -----  \n",
      " 0   PassengerId       418 non-null    int64  \n",
      " 1   Pclass            418 non-null    int64  \n",
      " 2   Name              418 non-null    object \n",
      " 3   Sex               418 non-null    object \n",
      " 4   Age               332 non-null    float64\n",
      " 5   Sibling&Spouses   418 non-null    int64  \n",
      " 6   Parents&Children  418 non-null    int64  \n",
      " 7   Ticket            418 non-null    object \n",
      " 8   Fare              417 non-null    float64\n",
      " 9   Cabin             91 non-null     object \n",
      " 10  Embarked          418 non-null    object \n",
      "dtypes: float64(2), int64(4), object(5)\n",
      "memory usage: 36.1+ KB\n"
     ]
    }
   ],
   "execution_count": 35
  }
 ],
 "metadata": {
  "kernelspec": {
   "display_name": "Python 3",
   "language": "python",
   "name": "python3"
  },
  "language_info": {
   "codemirror_mode": {
    "name": "ipython",
    "version": 2
   },
   "file_extension": ".py",
   "mimetype": "text/x-python",
   "name": "python",
   "nbconvert_exporter": "python",
   "pygments_lexer": "ipython2",
   "version": "2.7.6"
  }
 },
 "nbformat": 4,
 "nbformat_minor": 5
}
